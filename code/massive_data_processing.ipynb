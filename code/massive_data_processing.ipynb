{
 "cells": [
  {
   "cell_type": "markdown",
   "source": [
    "# Amazon Big Data Processing"
   ],
   "metadata": {
    "collapsed": false,
    "pycharm": {
     "name": "#%% md\n"
    }
   }
  },
  {
   "cell_type": "markdown",
   "source": [
    "## <font color=#267CB9>Download database content</font>"
   ],
   "metadata": {
    "collapsed": false,
    "pycharm": {
     "name": "#%% md\n"
    }
   }
  },
  {
   "cell_type": "code",
   "execution_count": 30,
   "outputs": [
    {
     "name": "stdout",
     "output_type": "stream",
     "text": [
      "\u001B[34m\n",
      "Amazon_Unlocked_Mobile.csv file: \n",
      "\u001B[0m                                              Product Name Brand Name   Price  \\\n",
      "0       \"CLEAR CLEAN ESN\" Sprint EPIC 4G Galaxy SPH-D7...    Samsung  199.99   \n",
      "1       \"CLEAR CLEAN ESN\" Sprint EPIC 4G Galaxy SPH-D7...    Samsung  199.99   \n",
      "2       \"CLEAR CLEAN ESN\" Sprint EPIC 4G Galaxy SPH-D7...    Samsung  199.99   \n",
      "3       \"CLEAR CLEAN ESN\" Sprint EPIC 4G Galaxy SPH-D7...    Samsung  199.99   \n",
      "4       \"CLEAR CLEAN ESN\" Sprint EPIC 4G Galaxy SPH-D7...    Samsung  199.99   \n",
      "...                                                   ...        ...     ...   \n",
      "413835  Samsung Convoy U640 Phone for Verizon Wireless...    Samsung   79.95   \n",
      "413836  Samsung Convoy U640 Phone for Verizon Wireless...    Samsung   79.95   \n",
      "413837  Samsung Convoy U640 Phone for Verizon Wireless...    Samsung   79.95   \n",
      "413838  Samsung Convoy U640 Phone for Verizon Wireless...    Samsung   79.95   \n",
      "413839  Samsung Convoy U640 Phone for Verizon Wireless...    Samsung   79.95   \n",
      "\n",
      "        Rating                                            Reviews  \\\n",
      "0            5  I feel so LUCKY to have found this used (phone...   \n",
      "1            4  nice phone, nice up grade from my pantach revu...   \n",
      "2            5                                       Very pleased   \n",
      "3            4  It works good but it goes slow sometimes but i...   \n",
      "4            4  Great phone to replace my lost phone. The only...   \n",
      "...        ...                                                ...   \n",
      "413835       5                     another great deal great price   \n",
      "413836       3                                                 Ok   \n",
      "413837       5        Passes every drop test onto porcelain tile!   \n",
      "413838       3  I returned it because it did not meet my needs...   \n",
      "413839       4  Only downside is that apparently Verizon no lo...   \n",
      "\n",
      "        Review Votes  \n",
      "0                1.0  \n",
      "1                0.0  \n",
      "2                0.0  \n",
      "3                0.0  \n",
      "4                0.0  \n",
      "...              ...  \n",
      "413835           0.0  \n",
      "413836           0.0  \n",
      "413837           0.0  \n",
      "413838           0.0  \n",
      "413839           0.0  \n",
      "\n",
      "[413840 rows x 6 columns]\n",
      "\u001B[34m\n",
      "Colonnes: \n",
      "\u001B[0m Index(['Product Name', 'Brand Name', 'Price', 'Rating', 'Reviews',\n",
      "       'Review Votes'],\n",
      "      dtype='object')\n",
      "\u001B[34m\n",
      "Brand Name Head 1000: \n",
      "\u001B[0m     Brand Name  Rating\n",
      "0      Samsung       5\n",
      "1      Samsung       4\n",
      "2      Samsung       5\n",
      "3      Samsung       4\n",
      "4      Samsung       4\n",
      "..         ...     ...\n",
      "995        NaN       3\n",
      "996        NaN       3\n",
      "997        NaN       5\n",
      "998        NaN       5\n",
      "999        NaN       5\n",
      "\n",
      "[1000 rows x 2 columns]\n",
      "\u001B[34m\n",
      "Brand Name Tail 1000: \n",
      "\u001B[0m               Brand Name  Rating\n",
      "412840  Dead Sea Secrets       5\n",
      "412841  Dead Sea Secrets       5\n",
      "412842  Dead Sea Secrets       5\n",
      "412843  Dead Sea Secrets       5\n",
      "412844               NaN       5\n",
      "...                  ...     ...\n",
      "413835           Samsung       5\n",
      "413836           Samsung       3\n",
      "413837           Samsung       5\n",
      "413838           Samsung       3\n",
      "413839           Samsung       4\n",
      "\n",
      "[1000 rows x 2 columns] \n",
      "\n"
     ]
    }
   ],
   "source": [
    "from termcolor import colored\n",
    "import pandas as pd\n",
    "import csv\n",
    "\n",
    "# Reading the file\n",
    "bd = pd.read_csv(\"Amazon_Unlocked_Mobile.csv\")\n",
    "print(colored(\"\\nAmazon_Unlocked_Mobile.csv file: \\n\", 'blue'), bd)\n",
    "print(colored('\\nColonnes: \\n', 'blue'), bd.columns)\n",
    "\n",
    "# Display of brands, 'Brand Name' column\n",
    "bd_select = pd.read_csv(\"Amazon_Unlocked_Mobile.csv\", usecols=[1, 3])\n",
    "print(colored('\\nBrand Name Head 1000: \\n', 'blue'),bd_select.head(1000))\n",
    "print(colored('\\nBrand Name Tail 1000: \\n', 'blue'),bd_select.tail(1000),'\\n')\n",
    "\n",
    "# Data Processing\n",
    "bd.columns = ['Product', 'Brand', 'Price', 'Rating', 'Reviews', 'Votes']\n",
    "del (bd['Product'], bd['Price'], bd['Rating'], bd['Votes'])\n",
    "df = bd.dropna(subset=['Brand', 'Reviews'])"
   ],
   "metadata": {
    "collapsed": false,
    "pycharm": {
     "name": "#%%\n"
    }
   }
  },
  {
   "cell_type": "markdown",
   "source": [
    "**Explanation**: *We can see that there are missing values in the \"Amazon_Unlocked_Mobile.csv\" file in the essential columns like the product brand \"Brand Name\" and that of the comments \"Reviews\" which will be useful for us for the next questions. it was therefore necessary to delete the lines concerned. I created a new file in preparation for the next question. I deleted the columns that are not of interest to us to keep only those of \"Brand Name\" and \"Reviews\"*.\n"
   ],
   "metadata": {
    "collapsed": false,
    "pycharm": {
     "name": "#%% md\n"
    }
   }
  },
  {
   "cell_type": "markdown",
   "source": [
    "## <font color=#267CB9>Find the 20 most frequent brands in the database, and display them in descending order.</font>"
   ],
   "metadata": {
    "collapsed": false,
    "pycharm": {
     "name": "#%% md\n"
    }
   }
  },
  {
   "cell_type": "code",
   "execution_count": 31,
   "outputs": [
    {
     "name": "stdout",
     "output_type": "stream",
     "text": [
      "\u001B[34m\n",
      "freq Brand Name: \n",
      "\u001B[0m Brand\n",
      "AKUA                         4\n",
      "AMM Global Enterprises       9\n",
      "ARGOM TECH                   2\n",
      "ASUS                       483\n",
      "ASUS Computers             719\n",
      "                          ... \n",
      "star                        29\n",
      "the Nokia                   12\n",
      "verykool                  1156\n",
      "winwinzonece                 2\n",
      "worryfree                    3\n",
      "Length: 384, dtype: int64\n",
      "\u001B[34m\n",
      "The 20 most frequent brands in descending order: \n",
      "\u001B[0m Brand\n",
      "Samsung           65728\n",
      "BLU               63246\n",
      "Apple             58179\n",
      "LG                22410\n",
      "BlackBerry        16872\n",
      "Nokia             16805\n",
      "Motorola          13417\n",
      "HTC               12724\n",
      "CNPGD             12613\n",
      "OtterBox           7987\n",
      "Sony               7828\n",
      "Posh Mobile        6765\n",
      "Huawei             3325\n",
      "LG Electronics     3104\n",
      "samsung            2428\n",
      "Polaroid           1729\n",
      "ZTE                1669\n",
      "Alcatel            1414\n",
      "Asus               1323\n",
      "verykool           1156\n",
      "dtype: int64\n"
     ]
    }
   ],
   "source": [
    "bd_sorted = df.sort_values('Brand', ascending=False)\n",
    "freq1 = bd_sorted.groupby(['Brand']).size()\n",
    "print(colored('\\nfreq Brand Name: \\n', 'blue'), freq1[0:])\n",
    "select = freq1.sort_values(ascending=False)\n",
    "print(\n",
    "   colored('\\nThe 20 most frequent brands in descending order: \\n','blue'),\n",
    "   select[0:20]\n",
    ")"
   ],
   "metadata": {
    "collapsed": false,
    "pycharm": {
     "name": "#%%\n"
    }
   }
  },
  {
   "cell_type": "markdown",
   "source": [
    "**Explanation**: *We see that the brand \"Samsung\" is found twice in the list under the name \"Samsung\" and \"samsung\". It is therefore necessary to merge the two brands. This would give \"Samsung\" a total of 68178 occurrences and allows to add the brand \"Casio\". To avoid this kind of problem, it is necessary to put all the brand names, as well as the comments in lower case, which is to be done afterwards to have better results*."
   ],
   "metadata": {
    "collapsed": false,
    "pycharm": {
     "name": "#%% md\n"
    }
   }
  },
  {
   "cell_type": "markdown",
   "source": [
    "## <font color=#267CB9>Map Reduce functions that calculate the frequency of words in the review text of each brand found previously.</font>"
   ],
   "metadata": {
    "collapsed": false,
    "pycharm": {
     "name": "#%% md\n"
    }
   }
  },
  {
   "cell_type": "code",
   "execution_count": 32,
   "outputs": [
    {
     "ename": "IndentationError",
     "evalue": "expected an indented block (Temp/ipykernel_20108/3206261301.py, line 14)",
     "output_type": "error",
     "traceback": [
      "\u001B[1;36m  File \u001B[1;32m\"C:\\Users\\shana\\AppData\\Local\\Temp/ipykernel_20108/3206261301.py\"\u001B[1;36m, line \u001B[1;32m14\u001B[0m\n\u001B[1;33m    list_of_tuples = [value for key, value in collections.Counter(liste).items()]\u001B[0m\n\u001B[1;37m    ^\u001B[0m\n\u001B[1;31mIndentationError\u001B[0m\u001B[1;31m:\u001B[0m expected an indented block\n"
     ]
    }
   ],
   "source": [
    "import collections\n",
    "\n",
    "new_bd = base_donnees_resultat.dropna(subset=['Marque', 'Mot'])\n",
    "line = base_donnees_resultat['Mot'].dropna()\n",
    "\n",
    "def mapper(line):\n",
    "    liste_sentences = line.str.split()\n",
    "    return liste_sentences\n",
    "\n",
    "def reducer(liste_sentences):\n",
    "    liste_words = []\n",
    "    for liste in liste_sentences.tolist():\n",
    "    list_of_tuples = [value for key, value in collections.Counter(liste).items()]\n",
    "    liste_words.append(list_of_tuples)\n",
    "    return liste_words\n"
   ],
   "metadata": {
    "collapsed": false,
    "pycharm": {
     "name": "#%%\n"
    }
   }
  },
  {
   "cell_type": "markdown",
   "source": [
    "## <font color=#267CB9>Calculate execution time for functions.</font>"
   ],
   "metadata": {
    "collapsed": false,
    "pycharm": {
     "name": "#%% md\n"
    }
   }
  },
  {
   "cell_type": "code",
   "execution_count": 34,
   "outputs": [
    {
     "ename": "NameError",
     "evalue": "name 'mapper' is not defined",
     "output_type": "error",
     "traceback": [
      "\u001B[1;31m---------------------------------------------------------------------------\u001B[0m",
      "\u001B[1;31mNameError\u001B[0m                                 Traceback (most recent call last)",
      "\u001B[1;32m~\\AppData\\Local\\Temp/ipykernel_20108/2125811734.py\u001B[0m in \u001B[0;36m<module>\u001B[1;34m\u001B[0m\n\u001B[0;32m      3\u001B[0m \u001B[1;31m# Calculate execution time\u001B[0m\u001B[1;33m\u001B[0m\u001B[1;33m\u001B[0m\u001B[0m\n\u001B[0;32m      4\u001B[0m \u001B[0mstart\u001B[0m \u001B[1;33m=\u001B[0m \u001B[0mtime\u001B[0m\u001B[1;33m.\u001B[0m\u001B[0mtime\u001B[0m\u001B[1;33m(\u001B[0m\u001B[1;33m)\u001B[0m\u001B[1;33m\u001B[0m\u001B[1;33m\u001B[0m\u001B[0m\n\u001B[1;32m----> 5\u001B[1;33m \u001B[0ma\u001B[0m \u001B[1;33m=\u001B[0m \u001B[0mmapper\u001B[0m\u001B[1;33m(\u001B[0m\u001B[0mline\u001B[0m\u001B[1;33m)\u001B[0m\u001B[1;33m\u001B[0m\u001B[1;33m\u001B[0m\u001B[0m\n\u001B[0m\u001B[0;32m      6\u001B[0m \u001B[0mb\u001B[0m \u001B[1;33m=\u001B[0m \u001B[0mreducer\u001B[0m\u001B[1;33m(\u001B[0m\u001B[0ma\u001B[0m\u001B[1;33m)\u001B[0m\u001B[1;33m\u001B[0m\u001B[1;33m\u001B[0m\u001B[0m\n\u001B[0;32m      7\u001B[0m \u001B[0mend\u001B[0m \u001B[1;33m=\u001B[0m \u001B[0mtime\u001B[0m\u001B[1;33m.\u001B[0m\u001B[0mtime\u001B[0m\u001B[1;33m(\u001B[0m\u001B[1;33m)\u001B[0m\u001B[1;33m\u001B[0m\u001B[1;33m\u001B[0m\u001B[0m\n",
      "\u001B[1;31mNameError\u001B[0m: name 'mapper' is not defined"
     ]
    }
   ],
   "source": [
    "import time\n",
    "\n",
    "# Calculate execution time\n",
    "start = time.time()\n",
    "a = mapper(line)\n",
    "b = reducer(a)\n",
    "end = time.time()\n",
    "print(colored(\"\\nLe temps d'exécution: \", 'blue'), (end - start))\n",
    "\n",
    "# File creation\n",
    "df = pd.DataFrame({'Marque': new_bd['Marque'] ,'Mot': a , 'Frequency': b})\n",
    "print('\\n', df)\n"
   ],
   "metadata": {
    "collapsed": false,
    "pycharm": {
     "name": "#%%\n"
    }
   }
  },
  {
   "cell_type": "markdown",
   "source": [
    "**Explanation**: *From what I understood from the statement, it was necessary to put the list of words used in the column \"Mot\" and the correspondence of their frequency in that of \"Frequence\". With more time, the word list should be sorted to remove at least stop words, punctuation and emoticons for better results*."
   ],
   "metadata": {
    "collapsed": false,
    "pycharm": {
     "name": "#%% md\n"
    }
   }
  },
  {
   "cell_type": "markdown",
   "source": [
    "## <font color=#267CB9>Export the previous results in a CSV file with the columns (Marque, Mot, Frequence).</font>"
   ],
   "metadata": {
    "collapsed": false,
    "pycharm": {
     "name": "#%% md\n"
    }
   }
  },
  {
   "cell_type": "code",
   "execution_count": null,
   "outputs": [],
   "source": [
    "import os\n",
    "\n",
    "path = r'C:/Users/isabelle/.../resultatq3.csv'\n",
    "file = open(path, 'w', newline='', encoding=\"utf8\")\n",
    "assert os.path.isfile(path)\n",
    "\n",
    "with file as myfile:\n",
    "    wr = csv.writer(myfile, quoting=csv.QUOTE_ALL)\n",
    "    wr.writerow(['Marque', 'Mot', 'Frequence'])\n",
    "    for index, value in df.iterrows():\n",
    "        wr.writerow(value)\n",
    "\n",
    "file.close()\n"
   ],
   "metadata": {
    "collapsed": false,
    "pycharm": {
     "name": "#%%\n"
    }
   }
  },
  {
   "cell_type": "markdown",
   "source": [
    "**Explanation**: *I have inserted the list of words and their frequencies but afterwards, it would be necessary to keep the most frequent ones or a single word, the one that comes up most often*."
   ],
   "metadata": {
    "collapsed": false,
    "pycharm": {
     "name": "#%% md\n"
    }
   }
  },
  {
   "cell_type": "markdown",
   "source": [
    "## <font color=#267CB9>Create a new MongoDB database with name *finalproject*</font>"
   ],
   "metadata": {
    "collapsed": false,
    "pycharm": {
     "name": "#%% md\n"
    }
   }
  },
  {
   "cell_type": "code",
   "execution_count": null,
   "outputs": [],
   "source": [
    "import pymongo\n",
    "from pymongo import Connection\n",
    "from pymongo import MongoClient\n",
    "\n",
    "client = pymongo.MongoClient(\"mongodb://localhost:27017/\")\n",
    "database = client[\"projetfinal\"]\n",
    "collection = database [\"projetfinal\"]"
   ],
   "metadata": {
    "collapsed": false,
    "pycharm": {
     "name": "#%%\n"
    }
   }
  },
  {
   "cell_type": "markdown",
   "source": [
    "**Explanation**: *After manipulation with the SQL queries, I find that it would be easier to put them in pairs in order to work on them. With more time, the word list should be sorted to at least remove stop words, punctuation, and emoticons*."
   ],
   "metadata": {
    "collapsed": false,
    "pycharm": {
     "name": "#%% md\n"
    }
   }
  },
  {
   "cell_type": "markdown",
   "source": [
    "## <font color=#267CB9>Import the new CSV file into the *finalproject* database.</font>"
   ],
   "metadata": {
    "collapsed": false,
    "pycharm": {
     "name": "#%% md\n"
    }
   }
  },
  {
   "cell_type": "code",
   "execution_count": null,
   "outputs": [],
   "source": [
    "data = r'C:/Users/isabelle/.../resultatq4.csv'\n",
    "collection.insert_many(data)"
   ],
   "metadata": {
    "collapsed": false,
    "pycharm": {
     "name": "#%%\n"
    }
   }
  },
  {
   "cell_type": "markdown",
   "source": [
    "## <font color=#267CB9>SQL query to display data from the *projectfinal* database</font>"
   ],
   "metadata": {
    "collapsed": false,
    "pycharm": {
     "name": "#%% md\n"
    }
   }
  },
  {
   "cell_type": "code",
   "execution_count": null,
   "outputs": [],
   "source": [
    "for doc in collection.find():\n",
    "    print(doc)"
   ],
   "metadata": {
    "collapsed": false,
    "pycharm": {
     "name": "#%%\n"
    }
   }
  },
  {
   "cell_type": "markdown",
   "source": [
    "**Explanation**: After manipulation with the SQL queries, I find that it would be easier to put the words and their frequencies in the form of pairs in order to work on them or to keep only the most frequent word or words for each Mark."
   ],
   "metadata": {
    "collapsed": false,
    "pycharm": {
     "name": "#%% md\n"
    }
   }
  },
  {
   "cell_type": "markdown",
   "source": [
    "## <font color=#267CB9>SQL query to display the brand with the most frequent word.</font>"
   ],
   "metadata": {
    "collapsed": false,
    "pycharm": {
     "name": "#%% md\n"
    }
   }
  },
  {
   "cell_type": "code",
   "execution_count": null,
   "outputs": [],
   "source": [
    "for doc in collection.find('{$and: {Marque, Frequence:-1}}'):\n",
    "    print(doc)"
   ],
   "metadata": {
    "collapsed": false,
    "pycharm": {
     "name": "#%%\n"
    }
   }
  },
  {
   "cell_type": "markdown",
   "source": [
    "**Explanation**: Unfortunately, with the word and frequency lists, I wasn't able to come up with a decent query."
   ],
   "metadata": {
    "collapsed": false,
    "pycharm": {
     "name": "#%% md\n"
    }
   }
  }
 ],
 "metadata": {
  "kernelspec": {
   "display_name": "Python 3",
   "language": "python",
   "name": "python3"
  },
  "language_info": {
   "codemirror_mode": {
    "name": "ipython",
    "version": 2
   },
   "file_extension": ".py",
   "mimetype": "text/x-python",
   "name": "python",
   "nbconvert_exporter": "python",
   "pygments_lexer": "ipython2",
   "version": "2.7.6"
  }
 },
 "nbformat": 4,
 "nbformat_minor": 0
}